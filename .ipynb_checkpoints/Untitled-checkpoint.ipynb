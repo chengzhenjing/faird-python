{
 "cells": [
  {
   "cell_type": "code",
   "execution_count": null,
   "id": "07510342-ef6d-4197-9c08-98a4ebf85090",
   "metadata": {},
   "outputs": [],
   "source": [
    "pip install faird"
   ]
  },
  {
   "cell_type": "code",
   "execution_count": null,
   "id": "8526a4f4-96cb-4672-8ce2-62ae6ee61b0f",
   "metadata": {},
   "outputs": [],
   "source": []
  }
 ],
 "metadata": {
  "kernelspec": {
   "display_name": "Python 3 (ipykernel)",
   "language": "python",
   "name": "python3"
  },
  "language_info": {
   "codemirror_mode": {
    "name": "ipython",
    "version": 3
   },
   "file_extension": ".py",
   "mimetype": "text/x-python",
   "name": "python",
   "nbconvert_exporter": "python",
   "pygments_lexer": "ipython3",
   "version": "3.12.4"
  }
 },
 "nbformat": 4,
 "nbformat_minor": 5
}
