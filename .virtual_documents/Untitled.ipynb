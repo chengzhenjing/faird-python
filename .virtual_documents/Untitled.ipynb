


print("1111")





pip install faird


















